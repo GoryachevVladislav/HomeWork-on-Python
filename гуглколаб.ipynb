{
  "nbformat": 4,
  "nbformat_minor": 0,
  "metadata": {
    "colab": {
      "provenance": []
    },
    "kernelspec": {
      "name": "python3",
      "display_name": "Python 3"
    },
    "language_info": {
      "name": "python"
    }
  },
  "cells": [
    {
      "cell_type": "code",
      "execution_count": 1,
      "metadata": {
        "id": "sF5KnYTJhB5t"
      },
      "outputs": [],
      "source": [
        "import pandas as pd\n"
      ]
    },
    {
      "cell_type": "code",
      "source": [
        "data = pd.read_csv('/content/sample_data/california_housing_train.csv')\n"
      ],
      "metadata": {
        "id": "u75NVV0NhJsw"
      },
      "execution_count": 2,
      "outputs": []
    },
    {
      "cell_type": "code",
      "source": [
        "filtered_data = data[(data['population'] >= 0) & (data['population'] <= 500)]\n"
      ],
      "metadata": {
        "id": "Hfl8lno8hNxS"
      },
      "execution_count": 4,
      "outputs": []
    },
    {
      "cell_type": "code",
      "source": [
        "average_price = filtered_data['median_house_value'].mean()\n"
      ],
      "metadata": {
        "id": "1tCzLlrqhUM-"
      },
      "execution_count": 6,
      "outputs": []
    },
    {
      "cell_type": "code",
      "source": [
        "print(f\"Средняя стоимость дома с количеством людей от 0 до 500: ${average_price:.2f}\")\n"
      ],
      "metadata": {
        "colab": {
          "base_uri": "https://localhost:8080/"
        },
        "id": "xXzmOoWHhX2M",
        "outputId": "c729e5f9-7bd8-48ed-a07e-b785b7697bba"
      },
      "execution_count": 7,
      "outputs": [
        {
          "output_type": "stream",
          "name": "stdout",
          "text": [
            "Средняя стоимость дома с количеством людей от 0 до 500: $206799.95\n"
          ]
        }
      ]
    },
    {
      "cell_type": "code",
      "source": [
        "min_population = data['population'].min()\n",
        "filtered_data = data[data['population'] == min_population]\n",
        "max_households = filtered_data['households'].max()\n",
        "print(f\"Максимальное значение households в зоне с минимальным значением population: {max_households}\")\n"
      ],
      "metadata": {
        "colab": {
          "base_uri": "https://localhost:8080/"
        },
        "id": "5-KiP5LBh6-4",
        "outputId": "f3d5aab6-6cff-442c-ae61-9f42395bda90"
      },
      "execution_count": 8,
      "outputs": [
        {
          "output_type": "stream",
          "name": "stdout",
          "text": [
            "Максимальное значение households в зоне с минимальным значением population: 4.0\n"
          ]
        }
      ]
    }
  ]
}